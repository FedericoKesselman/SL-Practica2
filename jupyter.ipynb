{
 "cells": [
  {
   "cell_type": "markdown",
   "metadata": {},
   "source": [
    "# Resolución ejercicio 10: \n",
    "Federico Kesselman"
   ]
  },
  {
   "cell_type": "code",
   "execution_count": 10,
   "metadata": {},
   "outputs": [],
   "source": [
    "names = \"\"\" Agustin, Yanina, Andrés, Ariadna, Bautista, CAROLINA,\n",
    "CESAR, David, Diego, Dolores, DYLAN, ELIANA, Emanuel, Fabián, Noelia,\n",
    "Francsica', FEDERICO, Fernanda, GONZALO, Nancy \"\"\"\n",
    "\n",
    "goals = [0, 10, 4, 0, 5, 14, 0, 0, 7, 2, 1, 1, 1, 5, 6, 1, 1, 2, 0, 11]\n",
    "goals_avoided = [0, 2, 0, 0, 5, 2, 0, 0, 1, 2, 0, 5, 5, 0, 1, 0, 2, 3, 0, 0]\n",
    "assists = [0, 5, 1, 0, 5, 2, 0, 0, 1, 2, 1, 5, 5, 0, 1, 0, 2, 3, 1, 0]"
   ]
  },
  {
   "cell_type": "markdown",
   "metadata": {},
   "source": [
    "---"
   ]
  },
  {
   "cell_type": "markdown",
   "metadata": {},
   "source": [
    "## Inciso 1: Generar una estructura todas las estadísticas asociadas a cada jugador o jugadora\n"
   ]
  },
  {
   "cell_type": "markdown",
   "metadata": {},
   "source": [
    "Se eliminan los caracteres especiales y los espacios del string de names. Se hace con una tupla con los caracteres a eliminar y la función replace.\n",
    "\n",
    "Con la función split se crea una lista en la que cada elemento es un nombre:"
   ]
  },
  {
   "cell_type": "code",
   "execution_count": 11,
   "metadata": {},
   "outputs": [
    {
     "name": "stdout",
     "output_type": "stream",
     "text": [
      "['Agustin', 'Yanina', 'Andrés', 'Ariadna', 'Bautista', 'CAROLINA', 'CESAR', 'David', 'Diego', 'Dolores', 'DYLAN', 'ELIANA', 'Emanuel', 'Fabián', 'Noelia', 'Francsica', 'FEDERICO', 'Fernanda', 'GONZALO', 'Nancy']\n"
     ]
    }
   ],
   "source": [
    "special_characters = (' ', \"'\", '\\n')\n",
    "for character in special_characters:\n",
    "    if (character in names):\n",
    "        names = names.replace (character, '') \n",
    "\n",
    "names = names.split(',')\n",
    "\n",
    "print (names)"
   ]
  },
  {
   "cell_type": "markdown",
   "metadata": {},
   "source": [
    "Empleando un for con indice **i** se crea la lista con la informacion de los jugadores. La lista esta formada por tuplas:"
   ]
  },
  {
   "cell_type": "code",
   "execution_count": 12,
   "metadata": {},
   "outputs": [
    {
     "name": "stdout",
     "output_type": "stream",
     "text": [
      "[('agustin', 0, 0, 0), ('yanina', 10, 2, 5), ('andrés', 4, 0, 1), ('ariadna', 0, 0, 0), ('bautista', 5, 5, 5), ('carolina', 14, 2, 2), ('cesar', 0, 0, 0), ('david', 0, 0, 0), ('diego', 7, 1, 1), ('dolores', 2, 2, 2), ('dylan', 1, 0, 1), ('eliana', 1, 5, 5), ('emanuel', 1, 5, 5), ('fabián', 5, 0, 0), ('noelia', 6, 1, 1), ('francsica', 1, 0, 0), ('federico', 1, 2, 2), ('fernanda', 2, 3, 3), ('gonzalo', 0, 0, 1), ('nancy', 11, 0, 0)]\n"
     ]
    }
   ],
   "source": [
    "info_players = []\n",
    "for i in range(len(names)):\n",
    "        info_players.append((names[i].lower(), goals[i], goals_avoided[i], assists[i]))\n",
    "\n",
    "print (info_players)"
   ]
  },
  {
   "cell_type": "markdown",
   "metadata": {},
   "source": [
    "---"
   ]
  },
  {
   "cell_type": "markdown",
   "metadata": {},
   "source": [
    "## Inciso 2: Conocer el nombre y la cantidad de goles del goleador o goleadora\n"
   ]
  },
  {
   "cell_type": "markdown",
   "metadata": {},
   "source": [
    "Se utiliza la función anónima lambda con \"*max()*\". Se indica la estructura \"*info_players*\" y luego con \"*lambda args : expression*\" se indica que el elemento para encontrar el maximo se encuentra en la posición 1 de las tuplas (goles):"
   ]
  },
  {
   "cell_type": "code",
   "execution_count": 17,
   "metadata": {},
   "outputs": [
    {
     "name": "stdout",
     "output_type": "stream",
     "text": [
      "Mas goleador/a:  carolina  con  14  goles.\n"
     ]
    }
   ],
   "source": [
    "player = max(info_players, key=lambda elem:elem[1])\n",
    "scorer = (player[0], player[1])\n",
    "\n",
    "print (f'Mas goleador/a: ', scorer[0], ' con ', scorer[1], ' goles.')"
   ]
  },
  {
   "cell_type": "markdown",
   "metadata": {},
   "source": [
    "---"
   ]
  },
  {
   "cell_type": "markdown",
   "metadata": {},
   "source": [
    "## Inciso 3: Conocer el nombre del jugador o jugadora más influyente"
   ]
  },
  {
   "cell_type": "markdown",
   "metadata": {},
   "source": [
    "Se recorre la estructura de la información de los jugadores con un for. Dentro de cada iteración se calcula el valor de cada jugador.\n",
    "\n",
    "En la misma iteración se pregunta si este valor es mayor al máximo. Dado el caso, éste se actualiza y se almacena en una tupla el nombre del jugador y su valor:\n",
    "\n"
   ]
  },
  {
   "cell_type": "code",
   "execution_count": 14,
   "metadata": {},
   "outputs": [
    {
     "name": "stdout",
     "output_type": "stream",
     "text": [
      "Jugador/a mas influyente:  carolina  con  25.5  puntos.\n"
     ]
    }
   ],
   "source": [
    "max_points = -1\n",
    "for player in info_players:\n",
    "        points = (player[1]*1.5) + (player[2]*1.25) + (player[3]*1)\n",
    "\n",
    "        if (points > max_points):\n",
    "            max_points = points\n",
    "            influential = (player[0], points)\n",
    "\n",
    "print (f'Jugador/a mas influyente: ', influential[0], ' con ', influential[1], ' puntos.')"
   ]
  },
  {
   "cell_type": "markdown",
   "metadata": {},
   "source": [
    "---"
   ]
  },
  {
   "cell_type": "markdown",
   "metadata": {},
   "source": [
    "## Inciso 4: Conocer el promedio de goles por partido del equipo en general"
   ]
  },
  {
   "cell_type": "markdown",
   "metadata": {},
   "source": [
    "Con la función \"*sum()*\" se suman todos los goles de todos los partidos (almacenados en la lista goals) y se divide por 25 (cantidad de partidos de la temporada):"
   ]
  },
  {
   "cell_type": "code",
   "execution_count": 16,
   "metadata": {},
   "outputs": [
    {
     "name": "stdout",
     "output_type": "stream",
     "text": [
      "Promedio de goles por partido del equipo:  2.84\n"
     ]
    }
   ],
   "source": [
    "average_goals_team = sum(goals) / 25\n",
    "print (f'Promedio de goles por partido del equipo: ', average_goals_team)"
   ]
  },
  {
   "cell_type": "markdown",
   "metadata": {},
   "source": [
    "---"
   ]
  },
  {
   "cell_type": "markdown",
   "metadata": {},
   "source": [
    "## Inciso 5: Conocer el promedio de goles por partido del goleador o goleadora"
   ]
  },
  {
   "cell_type": "markdown",
   "metadata": {},
   "source": [
    "Utilizando la tupla \"*scorer()*\" del inciso 2, es que se accede a la cantidad de goles del goleador y a este valor se lo divide por 25 (cantidad de partidos de la temporada):"
   ]
  },
  {
   "cell_type": "code",
   "execution_count": 18,
   "metadata": {},
   "outputs": [
    {
     "name": "stdout",
     "output_type": "stream",
     "text": [
      "Promedio de goles por partido del mas goleador/a:  0.56\n"
     ]
    }
   ],
   "source": [
    "average_goals_scorer = scorer[1] / 25\n",
    "print (f'Promedio de goles por partido del mas goleador/a: ', average_goals_scorer)"
   ]
  }
 ],
 "metadata": {
  "kernelspec": {
   "display_name": "venv",
   "language": "python",
   "name": "python3"
  },
  "language_info": {
   "codemirror_mode": {
    "name": "ipython",
    "version": 3
   },
   "file_extension": ".py",
   "mimetype": "text/x-python",
   "name": "python",
   "nbconvert_exporter": "python",
   "pygments_lexer": "ipython3",
   "version": "3.11.7"
  }
 },
 "nbformat": 4,
 "nbformat_minor": 2
}
